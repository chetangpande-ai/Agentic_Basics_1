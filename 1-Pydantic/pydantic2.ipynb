{
 "cells": [
  {
   "cell_type": "code",
   "execution_count": 3,
   "id": "c7cd3bad",
   "metadata": {},
   "outputs": [],
   "source": [
    "from typing import List\n",
    "from pydantic import BaseModel\n",
    "\n",
    "class Classroom(BaseModel):\n",
    "    room_numbegr:int\n",
    "    students:List[str]\n",
    "    capacity:int"
   ]
  },
  {
   "cell_type": "code",
   "execution_count": 4,
   "id": "515c0b27",
   "metadata": {},
   "outputs": [
    {
     "name": "stdout",
     "output_type": "stream",
     "text": [
      "room_numbegr=23 students=['amit', 'rajesh', 'rohan'] capacity=5\n"
     ]
    }
   ],
   "source": [
    "c1=Classroom(\n",
    "    room_numbegr=23,\n",
    "    students=(\"amit\",\"rajesh\",\"rohan\"),\n",
    "    capacity=5\n",
    ")\n",
    "print(c1)"
   ]
  }
 ],
 "metadata": {
  "kernelspec": {
   "display_name": "Python 3",
   "language": "python",
   "name": "python3"
  },
  "language_info": {
   "codemirror_mode": {
    "name": "ipython",
    "version": 3
   },
   "file_extension": ".py",
   "mimetype": "text/x-python",
   "name": "python",
   "nbconvert_exporter": "python",
   "pygments_lexer": "ipython3",
   "version": "3.12.11"
  }
 },
 "nbformat": 4,
 "nbformat_minor": 5
}
